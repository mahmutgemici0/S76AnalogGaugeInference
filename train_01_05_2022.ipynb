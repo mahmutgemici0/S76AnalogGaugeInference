{
 "cells": [
  {
   "cell_type": "code",
   "execution_count": null,
   "metadata": {},
   "outputs": [],
   "source": [
    "import numpy as np\n",
    "import matplotlib.pyplot as plt\n",
    "import pandas as pd\n",
    "import keras"
   ]
  },
  {
   "cell_type": "code",
   "execution_count": null,
   "metadata": {},
   "outputs": [],
   "source": [
    "df = pd.read_csv('train_2022-01-05 15-08-53.mp4.csv', index_col = False)\n",
    "df = df.drop(df[(df['Airspeed(Ind)'] < 0) | (df['Airspeed(Ind)'] > 120)].index)\n",
    "df['Airspeed(Ind)'] = df['Airspeed(Ind)'].astype(int)\n",
    "\n",
    "label = 'Airspeed(Ind)'\n",
    "image_path = 'image_path'"
   ]
  },
  {
   "cell_type": "code",
   "execution_count": null,
   "metadata": {},
   "outputs": [],
   "source": [
    "# classes = []\n",
    "\n",
    "# for i in df[label]:\n",
    "#     classes.append(i-75)\n",
    "\n",
    "# df['classes'] = classes"
   ]
  },
  {
   "cell_type": "code",
   "execution_count": null,
   "metadata": {},
   "outputs": [],
   "source": [
    "from sklearn.model_selection import train_test_split \n",
    "\n",
    "X_train, X_valid, y_train, y_valid = train_test_split(df[[image_path]], df[label], test_size = 0.2, random_state= 42) #, stratify= df[label]) "
   ]
  },
  {
   "cell_type": "code",
   "execution_count": null,
   "metadata": {},
   "outputs": [],
   "source": [
    "from sklearn.utils import class_weight\n",
    "class_weights = dict(zip(np.unique(y_train),\n",
    "                         class_weight.compute_class_weight('balanced', np.unique(y_train), y_train))) "
   ]
  },
  {
   "cell_type": "code",
   "execution_count": null,
   "metadata": {},
   "outputs": [],
   "source": [
    "x = class_weights.keys()\n",
    "y = class_weights.values()\n",
    "plt.bar(x,y, 0.5)\n",
    "plt.xlabel('Categories')\n",
    "plt.ylabel(\"Values\")\n",
    "plt.title('Class Weightage')\n",
    "plt.legend('')\n",
    "plt.show()"
   ]
  },
  {
   "cell_type": "code",
   "execution_count": null,
   "metadata": {},
   "outputs": [],
   "source": [
    "import os\n",
    "from scipy import stats\n",
    "import tensorflow as tf\n",
    "from tensorflow.keras.models import Sequential, Model\n",
    "from tensorflow.keras.layers import Dense, Conv2D, MaxPool2D, Flatten, UpSampling2D,Dropout, GlobalMaxPooling2D\n",
    "from tensorflow.keras.preprocessing.image import ImageDataGenerator\n",
    "from keras.utils.vis_utils import plot_model\n",
    "from tensorflow.keras.applications import VGG16, VGG19, InceptionV3\n",
    "from tensorflow.keras.callbacks import ReduceLROnPlateau,EarlyStopping\n",
    "from tensorflow.keras import optimizers , layers, applications\n",
    "from scipy import stats\n",
    "import tensorflow as tf\n",
    "from tensorflow.keras.models import Sequential\n",
    "from tensorflow.keras.layers import Dense, Conv2D, MaxPool2D, Flatten, UpSampling2D,Dropout, GlobalMaxPooling2D\n",
    "from tensorflow.keras.preprocessing.image import ImageDataGenerator\n",
    "from keras.utils.vis_utils import plot_model\n",
    "from tensorflow.keras.applications import VGG16, VGG19, InceptionV3\n",
    "from tensorflow.keras.callbacks import ReduceLROnPlateau,EarlyStopping, ModelCheckpoint\n",
    "from tensorflow.keras.models import Sequential, save_model\n",
    "import efficientnet.tfkeras as efn"
   ]
  },
  {
   "cell_type": "code",
   "execution_count": null,
   "metadata": {},
   "outputs": [],
   "source": [
    "df_train = pd.concat([X_train,y_train],axis=1)\n",
    "df_train[label] = df_train[label].astype(str) \n",
    "df_valid = pd.concat([X_valid,y_valid],axis=1)\n",
    "df_valid[label] = df_valid[label].astype(str) "
   ]
  },
  {
   "cell_type": "code",
   "execution_count": null,
   "metadata": {},
   "outputs": [],
   "source": [
    "EXPERIMENT_NO = 7\n",
    "xcol, ycol = image_path, label\n",
    "TRAINING_DIR = 'gauge_images/airspeed/2022-01-05 15-08-53.mp4'\n",
    "IMAGE_SIZE = 67\n",
    "INPUT_SHAPE = (IMAGE_SIZE, IMAGE_SIZE, 3)\n",
    "EPOCHS = 500\n",
    "BATCH_SIZE = 256\n",
    "LR = 0.00001\n",
    "CHECKPOINT_PATH = \"./Weights/{}_Resnet50_xplane_airspeed_weights.hdf5\".format(EXPERIMENT_NO)\n",
    "MONITOR = 'val_loss'"
   ]
  },
  {
   "cell_type": "code",
   "execution_count": null,
   "metadata": {},
   "outputs": [],
   "source": [
    "# Training Generator\n",
    "train_datagen = ImageDataGenerator(\n",
    "#     rotation_range=40,\n",
    "    rescale=1./255,\n",
    "#     shear_range=0.2,\n",
    "    zoom_range=0.2,\n",
    "#     horizontal_flip=True,\n",
    "#     fill_mode='nearest',\n",
    "#     width_shift_range=0.2,\n",
    "#     height_shift_range=0.2\n",
    "    brightness_range=[0.1,1.0]\n",
    ")\n",
    "\n",
    "train_generator = train_datagen.flow_from_dataframe( \n",
    "    df_train,\n",
    "    TRAINING_DIR, \n",
    "    x_col=xcol,\n",
    "    y_col=ycol,\n",
    "    class_mode='categorical',\n",
    "    target_size=(IMAGE_SIZE, IMAGE_SIZE),\n",
    "    batch_size=BATCH_SIZE\n",
    ")\n",
    "\n",
    "total_train = df_train.shape[0]\n",
    "total_validate = df_valid.shape[0]"
   ]
  },
  {
   "cell_type": "code",
   "execution_count": null,
   "metadata": {},
   "outputs": [],
   "source": [
    "validation_datagen = ImageDataGenerator(rescale=1./255)\n",
    "validation_generator = validation_datagen.flow_from_dataframe(\n",
    "    df_valid, \n",
    "    TRAINING_DIR, \n",
    "    x_col=xcol,\n",
    "    y_col=ycol,\n",
    "    class_mode='categorical',\n",
    "    target_size=(IMAGE_SIZE, IMAGE_SIZE),\n",
    "    batch_size=BATCH_SIZE\n",
    ")"
   ]
  },
  {
   "cell_type": "code",
   "execution_count": null,
   "metadata": {},
   "outputs": [],
   "source": [
    "pre_trained_model = VGG16(input_shape=INPUT_SHAPE, include_top=False, weights=\"imagenet\", pooling= 'avg')\n",
    "    \n",
    "last_layer = pre_trained_model.get_layer('block5_pool')\n",
    "last_output = last_layer.output\n",
    "\n",
    "# Flatten the output layer to 1 dimension\n",
    "x = GlobalMaxPooling2D()(last_output)\n",
    "# # Add a fully connected layer with 512 hidden units and ReLU activation\n",
    "x = Dense(256, activation='relu')(x)\n",
    "# Add a dropout rate of 0.5\n",
    "x = Dropout(0.5)(x)\n",
    "# Add a final sigmoid layer for classification\n",
    "x = layers.Dense(120, activation='softmax')(x)\n",
    "\n",
    "model = Model(pre_trained_model.input, x)"
   ]
  },
  {
   "cell_type": "code",
   "execution_count": null,
   "metadata": {},
   "outputs": [],
   "source": [
    "model.compile(loss='categorical_crossentropy',\n",
    "              optimizer=optimizers.Adam(lr= LR),\n",
    "              metrics=['accuracy'])\n",
    "\n",
    "model.summary()"
   ]
  },
  {
   "cell_type": "code",
   "execution_count": null,
   "metadata": {},
   "outputs": [],
   "source": [
    "model_checkpoint_callback = ModelCheckpoint(filepath= CHECKPOINT_PATH, verbose=1, \n",
    "                               save_best_only=True, monitor= MONITOR)\n",
    "early_stop = EarlyStopping(monitor= MONITOR, min_delta=0, patience=5, verbose=0)\n",
    "reduce_lr = ReduceLROnPlateau(monitor=MONITOR, factor=0.2,\n",
    "                              patience=3, min_lr=0.000002)"
   ]
  },
  {
   "cell_type": "code",
   "execution_count": null,
   "metadata": {},
   "outputs": [],
   "source": [
    "history = model.fit(\n",
    "             train_generator,\n",
    "             class_weight = class_weights,\n",
    "             validation_data = validation_generator,\n",
    "             epochs = 1000,\n",
    "             callbacks = [reduce_lr, early_stop, model_checkpoint_callback],\n",
    "             verbose = 1,\n",
    "             validation_steps=total_validate//BATCH_SIZE,\n",
    "             steps_per_epoch=total_train//BATCH_SIZE)"
   ]
  }
 ],
 "metadata": {
  "interpreter": {
   "hash": "6f1ba98585757090689f433664223e3a28b7d10adbfcd75813a24fc29534835a"
  },
  "kernelspec": {
   "display_name": "Python 3.8.11 64-bit ('faa_env': conda)",
   "language": "python",
   "name": "python3"
  },
  "language_info": {
   "codemirror_mode": {
    "name": "ipython",
    "version": 3
   },
   "file_extension": ".py",
   "mimetype": "text/x-python",
   "name": "python",
   "nbconvert_exporter": "python",
   "pygments_lexer": "ipython3",
   "version": "3.8.11"
  },
  "orig_nbformat": 4
 },
 "nbformat": 4,
 "nbformat_minor": 2
}
